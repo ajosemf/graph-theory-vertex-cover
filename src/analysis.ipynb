{
 "cells": [
  {
   "cell_type": "code",
   "execution_count": 1,
   "metadata": {},
   "outputs": [],
   "source": [
    "import networkx as nx\n",
    "from vertex import VertexCover\n",
    "import time"
   ]
  },
  {
   "cell_type": "code",
   "execution_count": 2,
   "metadata": {},
   "outputs": [],
   "source": [
    "# MEMORY_LIMIT = 1000000000  # 1 GB\n",
    "MEMORY_LIMIT = 1000000  # 1 MB\n",
    "# TIME_LIMIT = 120  # 2 minutes\n",
    "TIME_LIMIT = 30"
   ]
  },
  {
   "cell_type": "code",
   "execution_count": 3,
   "metadata": {},
   "outputs": [],
   "source": [
    "n = 100  # number of vertices\n",
    "m = 4  # number of edges for each new vertex in barabasi_albert_graph\n",
    "graph = nx.barabasi_albert_graph(n, m, seed=42)\n",
    "\n",
    "vertex = VertexCover(MEMORY_LIMIT=MEMORY_LIMIT, TIME_LIMIT=TIME_LIMIT)\n",
    "vertex.set_graph(list(graph.nodes), list(graph.edges))"
   ]
  },
  {
   "cell_type": "code",
   "execution_count": 7,
   "metadata": {},
   "outputs": [
    {
     "name": "stdout",
     "output_type": "stream",
     "text": [
      "Exceeded time limit! Time Limit: 30 seconds\n",
      "Time spent: 30.01 seconds\n",
      "Brute Cover: None\n"
     ]
    }
   ],
   "source": [
    "start = time.time()\n",
    "cover = vertex.get_cover(k=10, method='brute_force')\n",
    "time_spent = time.time() - start\n",
    "print(f'Time spent: {round(time_spent, 2)} seconds')\n",
    "print(f'Brute Cover: {cover}')"
   ]
  },
  {
   "cell_type": "code",
   "execution_count": 9,
   "metadata": {},
   "outputs": [
    {
     "name": "stdout",
     "output_type": "stream",
     "text": [
      "Time spent: 0.06 seconds\n",
      "Greedy Cover: [0, 7, 8, 5, 6, 9, 3, 18, 25, 37, 38, 21, 12, 14, 17, 23, 34, 10, 16, 19, 29, 20, 68, 74, 13, 24, 32, 45, 50, 61, 70, 75, 1, 33, 73, 98, 4, 15, 36, 41, 54, 60, 62, 71, 87, 91, 11, 22, 27, 31, 40, 42, 48, 49, 57, 58, 66, 72, 78]\n"
     ]
    }
   ],
   "source": [
    "start = time.time()\n",
    "cover = vertex.get_cover(k=59, method='greedy')\n",
    "time_spent = time.time() - start\n",
    "print(f'Time spent: {round(time_spent, 2)} seconds')\n",
    "print(f'Greedy Cover: {cover}')"
   ]
  }
 ],
 "metadata": {
  "kernelspec": {
   "display_name": "Python 3.10.8 ('vertex-cover')",
   "language": "python",
   "name": "python3"
  },
  "language_info": {
   "codemirror_mode": {
    "name": "ipython",
    "version": 3
   },
   "file_extension": ".py",
   "mimetype": "text/x-python",
   "name": "python",
   "nbconvert_exporter": "python",
   "pygments_lexer": "ipython3",
   "version": "3.10.8"
  },
  "orig_nbformat": 4,
  "vscode": {
   "interpreter": {
    "hash": "5a47bbffd8263bdb7f1fd96681c4fb190503d4c764d259b0957c792f52d9e146"
   }
  }
 },
 "nbformat": 4,
 "nbformat_minor": 2
}
