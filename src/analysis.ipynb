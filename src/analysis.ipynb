{
 "cells": [
  {
   "cell_type": "code",
   "execution_count": 1,
   "metadata": {},
   "outputs": [],
   "source": [
    "import networkx as nx\n",
    "from vertex import VertexCover\n",
    "import time"
   ]
  },
  {
   "cell_type": "code",
   "execution_count": 2,
   "metadata": {},
   "outputs": [],
   "source": [
    "MEMORY_LIMIT = 100000  # 100 KB\n",
    "TIME_LIMIT = 10  # 10 seconds"
   ]
  },
  {
   "cell_type": "code",
   "execution_count": 3,
   "metadata": {},
   "outputs": [],
   "source": [
    "def evaluate_graph(n, m, k):\n",
    "    \"\"\"Evaluate the graph using the VertexCover class.\n",
    "    \n",
    "    Args:\n",
    "        n (int): number of nodes in the graph\n",
    "        m (int): number of edges for each new node in barabasi_albert_graph\n",
    "        k (int): max number of vertices in the vertex cover\n",
    "        \n",
    "    Returns:\n",
    "        tuple: (brute_force, greedy) vertex_cover and time spent of the evaluation\n",
    "    \"\"\"\n",
    "    \n",
    "    graph = nx.barabasi_albert_graph(n, m, seed=42)\n",
    "    vertex = VertexCover(MEMORY_LIMIT, TIME_LIMIT)\n",
    "    vertex.set_graph(list(graph.nodes), list(graph.edges))\n",
    "    start_time = time.time()\n",
    "    brute_force_cover = vertex.get_cover(k, method='brute_force')\n",
    "    brute_force_time_spent = time.time() - start_time\n",
    "    start_time = time.time()\n",
    "    greedy_cover = vertex.get_cover(k, method='greedy')\n",
    "    greedy_time_spent = time.time() - start_time\n",
    "    return brute_force_cover, brute_force_time_spent, greedy_cover, greedy_time_spent"
   ]
  },
  {
   "cell_type": "code",
   "execution_count": 4,
   "metadata": {},
   "outputs": [],
   "source": [
    "# each graph is a tuple of (nodes, edges for each node, k)\n",
    "graphs = {\n",
    "    0: (10, 2, 6),\n",
    "    1: (30, 3, 20),\n",
    "    2: (60, 4, 40),\n",
    "    3: (90, 5, 60),\n",
    "}"
   ]
  },
  {
   "cell_type": "code",
   "execution_count": 5,
   "metadata": {},
   "outputs": [],
   "source": [
    "def print_results(brute_force_cover, brute_force_time_spent, greedy_cover, greedy_time_spent):\n",
    "    print('\\nResults:')\n",
    "    print(f'Brute force cover: {brute_force_cover}')\n",
    "    print(f'Brute force time spent: {brute_force_time_spent}')\n",
    "    print(f'Greedy cover: {greedy_cover}')\n",
    "    print(f'Greedy time spent: {greedy_time_spent}')"
   ]
  },
  {
   "cell_type": "code",
   "execution_count": 6,
   "metadata": {},
   "outputs": [
    {
     "name": "stdout",
     "output_type": "stream",
     "text": [
      "Running brute_force strategy with k=6...\n",
      "Running greedy strategy with k=6...\n",
      "\n",
      "Results:\n",
      "Brute force cover: [0, 1, 3, 4, 6]\n",
      "Brute force time spent: 0.0016639232635498047\n",
      "Greedy cover: [0, 1, 4, 3, 6]\n",
      "Greedy time spent: 0.00042629241943359375\n"
     ]
    }
   ],
   "source": [
    "n, m, k = graphs[0]\n",
    "brute_force_cover, brute_force_time_spent, greedy_cover, greedy_time_spent = evaluate_graph(n, m, k)\n",
    "print_results(brute_force_cover, brute_force_time_spent, greedy_cover, greedy_time_spent)"
   ]
  },
  {
   "cell_type": "code",
   "execution_count": 7,
   "metadata": {},
   "outputs": [
    {
     "name": "stdout",
     "output_type": "stream",
     "text": [
      "Running brute_force strategy with k=20...\n",
      "Exceeded time limit! Time Limit: 10 seconds\n",
      "Running greedy strategy with k=20...\n",
      "\n",
      "Results:\n",
      "Brute force cover: None\n",
      "Brute force time spent: 10.02440094947815\n",
      "Greedy cover: [5, 4, 0, 6, 7, 3, 10, 12, 14, 22, 26, 1, 16, 20]\n",
      "Greedy time spent: 0.0022585391998291016\n"
     ]
    }
   ],
   "source": [
    "n, m, k = graphs[1]\n",
    "brute_force_cover, brute_force_time_spent, greedy_cover, greedy_time_spent = evaluate_graph(n, m, k)\n",
    "print_results(brute_force_cover, brute_force_time_spent, greedy_cover, greedy_time_spent)"
   ]
  },
  {
   "cell_type": "code",
   "execution_count": 8,
   "metadata": {},
   "outputs": [
    {
     "name": "stdout",
     "output_type": "stream",
     "text": [
      "Running brute_force strategy with k=40...\n",
      "Exceeded time limit! Time Limit: 10 seconds\n",
      "Running greedy strategy with k=40...\n",
      "\n",
      "Results:\n",
      "Brute force cover: None\n",
      "Brute force time spent: 10.017195701599121\n",
      "Greedy cover: [0, 7, 8, 6, 5, 9, 18, 3, 25, 17, 21, 14, 38, 19, 10, 16, 23, 33, 29, 37, 45, 50, 12, 20, 24, 32, 34, 41, 11, 15, 26, 27, 31, 36, 40]\n",
      "Greedy time spent: 0.019893169403076172\n"
     ]
    }
   ],
   "source": [
    "n, m, k = graphs[2]\n",
    "brute_force_cover, brute_force_time_spent, greedy_cover, greedy_time_spent = evaluate_graph(n, m, k)\n",
    "print_results(brute_force_cover, brute_force_time_spent, greedy_cover, greedy_time_spent)"
   ]
  },
  {
   "cell_type": "code",
   "execution_count": 9,
   "metadata": {},
   "outputs": [
    {
     "name": "stdout",
     "output_type": "stream",
     "text": [
      "Running brute_force strategy with k=60...\n",
      "Exceeded time limit! Time Limit: 10 seconds\n",
      "Running greedy strategy with k=60...\n",
      "\n",
      "Results:\n",
      "Brute force cover: None\n",
      "Brute force time spent: 10.027383089065552\n",
      "Greedy cover: [0, 7, 9, 8, 6, 10, 15, 11, 16, 18, 19, 3, 26, 12, 17, 25, 20, 30, 5, 45, 51, 69, 1, 21, 29, 13, 27, 32, 82, 4, 33, 48, 49, 61, 62, 78, 24, 31, 35, 40, 41, 44, 53, 54, 56, 72, 14, 28, 36, 38, 42, 58, 73, 74, 75, 76]\n",
      "Greedy time spent: 0.08388376235961914\n"
     ]
    }
   ],
   "source": [
    "n, m, k = graphs[3]\n",
    "brute_force_cover, brute_force_time_spent, greedy_cover, greedy_time_spent = evaluate_graph(n, m, k)\n",
    "print_results(brute_force_cover, brute_force_time_spent, greedy_cover, greedy_time_spent)"
   ]
  }
 ],
 "metadata": {
  "kernelspec": {
   "display_name": "Python 3.10.8 ('vertex-cover')",
   "language": "python",
   "name": "python3"
  },
  "language_info": {
   "codemirror_mode": {
    "name": "ipython",
    "version": 3
   },
   "file_extension": ".py",
   "mimetype": "text/x-python",
   "name": "python",
   "nbconvert_exporter": "python",
   "pygments_lexer": "ipython3",
   "version": "3.10.8"
  },
  "orig_nbformat": 4,
  "vscode": {
   "interpreter": {
    "hash": "5a47bbffd8263bdb7f1fd96681c4fb190503d4c764d259b0957c792f52d9e146"
   }
  }
 },
 "nbformat": 4,
 "nbformat_minor": 2
}
