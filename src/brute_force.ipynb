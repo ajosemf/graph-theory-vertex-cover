{
 "cells": [
  {
   "cell_type": "code",
   "execution_count": 1,
   "metadata": {},
   "outputs": [],
   "source": [
    "from itertools import chain, combinations\n",
    "import networkx as nx"
   ]
  },
  {
   "cell_type": "code",
   "execution_count": 2,
   "metadata": {},
   "outputs": [],
   "source": [
    "def powerset(iterable):\n",
    "    \"\"\"Return the powerset of an iterable as a list of lists.\n",
    "    \n",
    "    Args:\n",
    "        iterable (list): list of elements to take the powerset of\n",
    "        \n",
    "    Example:\n",
    "        >>> for x in powerset([1, 2, 3]):\n",
    "        >>>    print(x)\n",
    "        ()\n",
    "        (1,)\n",
    "        (2,)\n",
    "        (3,)\n",
    "        (1, 2)\n",
    "        (1, 3)\n",
    "        (2, 3)\n",
    "        (1, 2, 3)\n",
    "\n",
    "    Returns:\n",
    "        iterator: iterator over the powerset of the input list\n",
    "    \"\"\"\n",
    "    s = list(iterable)\n",
    "    return chain.from_iterable(combinations(s, r) for r in range(len(s)+1))\n",
    "\n",
    "\n",
    "def subsets(iterable, lenght=None):\n",
    "    K = lenght or len(iterable)\n",
    "    for x in powerset(iterable):\n",
    "        if len(x) > K:\n",
    "            break\n",
    "        yield x"
   ]
  },
  {
   "cell_type": "code",
   "execution_count": 3,
   "metadata": {},
   "outputs": [
    {
     "data": {
      "image/png": "[encoded data removed]",
      "text/plain": [
       "<Figure size 640x480 with 1 Axes>"
      ]
     },
     "metadata": {},
     "output_type": "display_data"
    }
   ],
   "source": [
    "n = 5  # number of vertices\n",
    "m = 1  # number of edges for each new vertex in barabasi_albert_graph\n",
    "\n",
    "graph = nx.barabasi_albert_graph(n, m, seed=42)\n",
    "nx.draw_circular(graph, with_labels=True)"
   ]
  },
  {
   "cell_type": "code",
   "execution_count": 4,
   "metadata": {},
   "outputs": [
    {
     "name": "stdout",
     "output_type": "stream",
     "text": [
      "nodes: [0, 1, 2, 3, 4]\n",
      "edges: [(0, 1), (0, 2), (0, 3), (3, 4)]\n"
     ]
    }
   ],
   "source": [
    "nodes = list(graph.nodes)\n",
    "edges = list(graph.edges)\n",
    "print(f'nodes: {nodes}\\nedges: {edges}')"
   ]
  },
  {
   "cell_type": "code",
   "execution_count": 5,
   "metadata": {},
   "outputs": [
    {
     "name": "stdout",
     "output_type": "stream",
     "text": [
      "()\n",
      "(0,)\n",
      "(1,)\n",
      "(2,)\n",
      "(3,)\n",
      "(4,)\n",
      "(0, 1)\n",
      "(0, 2)\n",
      "(0, 3)\n",
      "(0, 4)\n",
      "(1, 2)\n",
      "(1, 3)\n",
      "(1, 4)\n",
      "(2, 3)\n",
      "(2, 4)\n",
      "(3, 4)\n",
      "(0, 1, 2)\n",
      "(0, 1, 3)\n",
      "(0, 1, 4)\n",
      "(0, 2, 3)\n",
      "(0, 2, 4)\n",
      "(0, 3, 4)\n",
      "(1, 2, 3)\n",
      "(1, 2, 4)\n",
      "(1, 3, 4)\n",
      "(2, 3, 4)\n",
      "(0, 1, 2, 3)\n",
      "(0, 1, 2, 4)\n",
      "(0, 1, 3, 4)\n",
      "(0, 2, 3, 4)\n",
      "(1, 2, 3, 4)\n",
      "(0, 1, 2, 3, 4)\n"
     ]
    }
   ],
   "source": [
    "for subset in subsets(nodes):\n",
    "    print(subset)"
   ]
  },
  {
   "cell_type": "code",
   "execution_count": 6,
   "metadata": {},
   "outputs": [
    {
     "name": "stdout",
     "output_type": "stream",
     "text": [
      "()\n",
      "(0,)\n",
      "(1,)\n",
      "(2,)\n",
      "(3,)\n",
      "(4,)\n",
      "(0, 1)\n",
      "(0, 2)\n",
      "(0, 3)\n",
      "(0, 4)\n",
      "(1, 2)\n",
      "(1, 3)\n",
      "(1, 4)\n",
      "(2, 3)\n",
      "(2, 4)\n",
      "(3, 4)\n"
     ]
    }
   ],
   "source": [
    "K = 2\n",
    "for subset in subsets(nodes, K):\n",
    "    print(subset)"
   ]
  },
  {
   "cell_type": "code",
   "execution_count": 7,
   "metadata": {},
   "outputs": [],
   "source": [
    "def is_vertex_cover(edges, subset_nodes):\n",
    "    for u, v in edges:\n",
    "        if u not in subset_nodes and v not in subset_nodes:\n",
    "            return False\n",
    "    return True"
   ]
  },
  {
   "cell_type": "code",
   "execution_count": 8,
   "metadata": {},
   "outputs": [
    {
     "name": "stdout",
     "output_type": "stream",
     "text": [
      "subset tested: ()\n",
      "subset tested: (0,)\n",
      "subset tested: (1,)\n",
      "subset tested: (2,)\n",
      "subset tested: (3,)\n",
      "subset tested: (4,)\n",
      "subset tested: (0, 1)\n",
      "subset tested: (0, 2)\n",
      "subset tested: (0, 3)\n",
      "Subset (0, 3) is a vertex cover\n"
     ]
    }
   ],
   "source": [
    "K = 3\n",
    "for subset in subsets(nodes, K):\n",
    "    print(f'subset tested: {subset}')\n",
    "    if is_vertex_cover(edges, subset):\n",
    "        print(f'Subset {subset} is a vertex cover')\n",
    "        break"
   ]
  }
 ],
 "metadata": {
  "kernelspec": {
   "display_name": "Python 3.10.8 ('vertex-cover')",
   "language": "python",
   "name": "python3"
  },
  "language_info": {
   "codemirror_mode": {
    "name": "ipython",
    "version": 3
   },
   "file_extension": ".py",
   "mimetype": "text/x-python",
   "name": "python",
   "nbconvert_exporter": "python",
   "pygments_lexer": "ipython3",
   "version": "3.10.8"
  },
  "orig_nbformat": 4,
  "vscode": {
   "interpreter": {
    "hash": "5a47bbffd8263bdb7f1fd96681c4fb190503d4c764d259b0957c792f52d9e146"
   }
  }
 },
 "nbformat": 4,
 "nbformat_minor": 2
}
